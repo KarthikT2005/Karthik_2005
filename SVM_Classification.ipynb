{
  "cells": [
    {
      "cell_type": "code",
      "execution_count": null,
      "metadata": {
        "id": "AjdqV8FsTK0b"
      },
      "outputs": [],
      "source": [
        "import pandas as pd\n",
        "import numpy as np\n",
        "from sklearn.feature_extraction.text import CountVectorizer, TfidfVectorizer\n",
        "from sklearn.preprocessing import StandardScaler\n",
        "from sklearn import svm\n",
        "from sklearn.svm import SVC\n",
        "from sklearn.model_selection import GridSearchCV\n",
        "from sklearn.metrics import classification_report\n",
        "from sklearn.metrics import accuracy_score, confusion_matrix\n",
        "from sklearn.model_selection import train_test_split, cross_val_score"
      ]
    },
    {
      "cell_type": "code",
      "execution_count": null,
      "metadata": {
        "id": "IJx5w3V4UCj9"
      },
      "outputs": [],
      "source": [
        "filename = r'/content/pima-indians-diabetes.data.csv'\n",
        "names = ['preg', 'plas', 'pres', 'skin', 'test', 'mass', 'pedi', 'age', 'class']\n",
        "dataframe = pd.read_csv(filename, names=names)\n",
        "array = dataframe.values\n",
        "X = array[:,0:8]\n",
        "Y = array[:,8]"
      ]
    },
    {
      "cell_type": "code",
      "execution_count": null,
      "metadata": {
        "id": "P14JRcy-UagY"
      },
      "outputs": [],
      "source": [
        "X_train, X_test, Y_train, Y_test = train_test_split(X, Y, test_size = 0.3)"
      ]
    },
    {
      "cell_type": "code",
      "execution_count": null,
      "metadata": {
        "id": "oKm3JzFmUrm3"
      },
      "outputs": [],
      "source": [
        "from sklearn.model_selection import GridSearchCV\n",
        "from sklearn.svm import SVC"
      ]
    },
    {
      "cell_type": "code",
      "execution_count": null,
      "metadata": {
        "id": "TUAr8MEuU2AY"
      },
      "outputs": [],
      "source": [
        "svc = SVC()"
      ]
    },
    {
      "cell_type": "code",
      "execution_count": null,
      "metadata": {
        "colab": {
          "background_save": true
        },
        "id": "eQWevFwEU3uo",
        "outputId": "a0fd0098-c6c5-4d5b-d816-3aa3f2422a3e"
      },
      "outputs": [
        {
          "name": "stdout",
          "output_type": "stream",
          "text": [
            "Best parameters: {'C': 1, 'gamma': 0.01, 'kernel': 'linear'}\n",
            "Best cross-validation score: 0.7635687088958117\n"
          ]
        }
      ],
      "source": [
        "param_grid = {\n",
        "    'C' : [0.1, 1, 10],\n",
        "    'gamma' : [0.01, 0.1, 1],\n",
        "    'kernel' : ['linear', 'rbf']\n",
        "}\n",
        "\n",
        "grid_search = GridSearchCV(estimator=svc, param_grid=param_grid, cv=5)\n",
        "grid_search.fit(X_train, Y_train)\n",
        "print(\"Best parameters:\", grid_search.best_params_)\n",
        "print(\"Best cross-validation score:\", grid_search.best_score_)"
      ]
    },
    {
      "cell_type": "code",
      "execution_count": null,
      "metadata": {
        "colab": {
          "background_save": true
        },
        "id": "bPD8VahrVLv1",
        "outputId": "e7ea1977-6900-4b96-d9aa-de94b2934be9"
      },
      "outputs": [
        {
          "data": {
            "text/plain": [
              "((537, 8), (537,), (231, 8), (231,))"
            ]
          },
          "execution_count": 11,
          "metadata": {},
          "output_type": "execute_result"
        }
      ],
      "source": [
        "X_train.shape, Y_train.shape, X_test.shape, Y_test.shape"
      ]
    },
    {
      "cell_type": "markdown",
      "source": [
        "Grid Search CV"
      ],
      "metadata": {
        "id": "xW46p9z2ZWBS"
      }
    },
    {
      "cell_type": "code",
      "source": [],
      "metadata": {
        "id": "sv1E5pN5Tkcc"
      },
      "execution_count": null,
      "outputs": []
    }
  ],
  "metadata": {
    "colab": {
      "provenance": []
    },
    "kernelspec": {
      "display_name": "Python 3",
      "name": "python3"
    },
    "language_info": {
      "name": "python"
    }
  },
  "nbformat": 4,
  "nbformat_minor": 0
}